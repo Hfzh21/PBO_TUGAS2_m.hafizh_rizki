{
  "nbformat": 4,
  "nbformat_minor": 0,
  "metadata": {
    "colab": {
      "provenance": [],
      "authorship_tag": "ABX9TyOUe7vlwMqYGRNsVfiTLLkT",
      "include_colab_link": true
    },
    "kernelspec": {
      "name": "python3",
      "display_name": "Python 3"
    },
    "language_info": {
      "name": "python"
    }
  },
  "cells": [
    {
      "cell_type": "markdown",
      "metadata": {
        "id": "view-in-github",
        "colab_type": "text"
      },
      "source": [
        "<a href=\"https://colab.research.google.com/github/Hfzh21/PBO_TUGAS3/blob/main/PBO_TUGAS2_classbuku.ipynb\" target=\"_parent\"><img src=\"https://colab.research.google.com/assets/colab-badge.svg\" alt=\"Open In Colab\"/></a>"
      ]
    },
    {
      "cell_type": "code",
      "execution_count": 1,
      "metadata": {
        "colab": {
          "base_uri": "https://localhost:8080/"
        },
        "id": "QSF0p53FqWOb",
        "outputId": "e64d971b-5f62-4221-dcb2-446e060dd8fc"
      },
      "outputs": [
        {
          "output_type": "stream",
          "name": "stdout",
          "text": [
            "Judul: bulan, Penulis: tere liye\n",
            "Judul buku diubah menjadi: matahari\n",
            "Judul: matahari, Penulis: tere liye\n"
          ]
        }
      ],
      "source": [
        "class Buku:\n",
        "    def __init__(self, judul, penulis):\n",
        "        self.judul = judul\n",
        "        self.penulis = penulis\n",
        "\n",
        "    def tampilkan_info(self):\n",
        "        print(f\"Judul: {self.judul}, Penulis: {self.penulis}\")\n",
        "\n",
        "    def ubah_judul(self, judul_baru):\n",
        "        self.judul = judul_baru\n",
        "        print(f\"Judul buku diubah menjadi: {self.judul}\")\n",
        "\n",
        "\n",
        "b = Buku(\"bulan\", \"tere liye\")\n",
        "b.tampilkan_info()\n",
        "b.ubah_judul(\"matahari\")\n",
        "b.tampilkan_info()\n"
      ]
    }
  ]
}