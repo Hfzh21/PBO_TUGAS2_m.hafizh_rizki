{
  "nbformat": 4,
  "nbformat_minor": 0,
  "metadata": {
    "colab": {
      "provenance": [],
      "authorship_tag": "ABX9TyMo2zRB7S1lgHYU66ZXw3gB",
      "include_colab_link": true
    },
    "kernelspec": {
      "name": "python3",
      "display_name": "Python 3"
    },
    "language_info": {
      "name": "python"
    }
  },
  "cells": [
    {
      "cell_type": "markdown",
      "metadata": {
        "id": "view-in-github",
        "colab_type": "text"
      },
      "source": [
        "<a href=\"https://colab.research.google.com/github/Hfzh21/PBO_TUGAS3/blob/main/pbo_tugas2_classpintu.ipynb\" target=\"_parent\"><img src=\"https://colab.research.google.com/assets/colab-badge.svg\" alt=\"Open In Colab\"/></a>"
      ]
    },
    {
      "cell_type": "code",
      "execution_count": 1,
      "metadata": {
        "id": "vxn7WRGTxg7H",
        "colab": {
          "base_uri": "https://localhost:8080/"
        },
        "outputId": "5e213b0f-6a0a-443a-a524-1d513e9e89a8"
      },
      "outputs": [
        {
          "output_type": "stream",
          "name": "stdout",
          "text": [
            "Pintu terbuka.\n",
            "Pintu tertutup.\n"
          ]
        }
      ],
      "source": [
        "class Pintu:\n",
        "    def __init__(self):\n",
        "        self.status = \"Tertutup\"\n",
        "\n",
        "    def buka(self):\n",
        "        self.status = \"Terbuka\"\n",
        "        return \"Pintu terbuka.\"\n",
        "\n",
        "    def tutup(self):\n",
        "        self.status = \"Tertutup\"\n",
        "        return \"Pintu tertutup.\"\n",
        "\n",
        "pintu1 = Pintu()\n",
        "print(pintu1.buka())\n",
        "print(pintu1.tutup())"
      ]
    }
  ]
}