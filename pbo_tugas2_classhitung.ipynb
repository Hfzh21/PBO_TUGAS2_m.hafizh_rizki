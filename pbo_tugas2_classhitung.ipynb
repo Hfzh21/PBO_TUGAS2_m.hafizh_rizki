{
  "nbformat": 4,
  "nbformat_minor": 0,
  "metadata": {
    "colab": {
      "provenance": [],
      "authorship_tag": "ABX9TyO/l9A/4idLZ4PHQXRwyuP3",
      "include_colab_link": true
    },
    "kernelspec": {
      "name": "python3",
      "display_name": "Python 3"
    },
    "language_info": {
      "name": "python"
    }
  },
  "cells": [
    {
      "cell_type": "markdown",
      "metadata": {
        "id": "view-in-github",
        "colab_type": "text"
      },
      "source": [
        "<a href=\"https://colab.research.google.com/github/Hfzh21/PBO_TUGAS3/blob/main/pbo_tugas2_classhitung.ipynb\" target=\"_parent\"><img src=\"https://colab.research.google.com/assets/colab-badge.svg\" alt=\"Open In Colab\"/></a>"
      ]
    },
    {
      "cell_type": "code",
      "execution_count": 1,
      "metadata": {
        "id": "vTHsiWgux8Mm",
        "outputId": "2d43085b-5743-4b95-9899-a1228b11f8d8",
        "colab": {
          "base_uri": "https://localhost:8080/"
        }
      },
      "outputs": [
        {
          "output_type": "stream",
          "name": "stdout",
          "text": [
            "43\n",
            "46\n"
          ]
        }
      ],
      "source": [
        "class Hitung:\n",
        "    def tambah(self, a, b):\n",
        "        return a + b\n",
        "\n",
        "    def kurang(self, a, b):\n",
        "        return a - b\n",
        "\n",
        "h = Hitung()\n",
        "print(h.tambah(20, 23))\n",
        "print(h.kurang(90, 44))"
      ]
    }
  ]
}