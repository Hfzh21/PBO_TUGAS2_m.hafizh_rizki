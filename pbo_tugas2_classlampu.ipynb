{
  "nbformat": 4,
  "nbformat_minor": 0,
  "metadata": {
    "colab": {
      "provenance": [],
      "authorship_tag": "ABX9TyMdHqGnRrbpVc1Lo4EGqDDD",
      "include_colab_link": true
    },
    "kernelspec": {
      "name": "python3",
      "display_name": "Python 3"
    },
    "language_info": {
      "name": "python"
    }
  },
  "cells": [
    {
      "cell_type": "markdown",
      "metadata": {
        "id": "view-in-github",
        "colab_type": "text"
      },
      "source": [
        "<a href=\"https://colab.research.google.com/github/Hfzh21/PBO_TUGAS3/blob/main/pbo_tugas2_classlampu.ipynb\" target=\"_parent\"><img src=\"https://colab.research.google.com/assets/colab-badge.svg\" alt=\"Open In Colab\"/></a>"
      ]
    },
    {
      "cell_type": "code",
      "execution_count": 1,
      "metadata": {
        "colab": {
          "base_uri": "https://localhost:8080/"
        },
        "id": "0mlWK4__w25Z",
        "outputId": "46463563-ffa8-43fa-8386-de727b8d63b9"
      },
      "outputs": [
        {
          "output_type": "stream",
          "name": "stdout",
          "text": [
            "Lampu menyala\n",
            "Status lampu saat ini: Nyala\n",
            "Lampu mati\n",
            "Status lampu saat ini: Mati\n"
          ]
        }
      ],
      "source": [
        "class Lampu:\n",
        "    def __init__(self):\n",
        "        self.status = \"Mati\"\n",
        "\n",
        "    def nyalakan(self):\n",
        "        self.status = \"Nyala\"\n",
        "        print(\"Lampu menyala\")\n",
        "\n",
        "    def matikan(self):\n",
        "        self.status = \"Mati\"\n",
        "        print(\"Lampu mati\")\n",
        "\n",
        "    def cek_status(self):\n",
        "        print(f\"Status lampu saat ini: {self.status}\")\n",
        "\n",
        "l = Lampu()\n",
        "l.nyalakan()\n",
        "l.cek_status()\n",
        "l.matikan()\n",
        "l.cek_status()"
      ]
    }
  ]
}