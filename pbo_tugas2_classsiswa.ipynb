{
  "nbformat": 4,
  "nbformat_minor": 0,
  "metadata": {
    "colab": {
      "provenance": [],
      "authorship_tag": "ABX9TyPVnGgrzNw92nyR//3A6F8t",
      "include_colab_link": true
    },
    "kernelspec": {
      "name": "python3",
      "display_name": "Python 3"
    },
    "language_info": {
      "name": "python"
    }
  },
  "cells": [
    {
      "cell_type": "markdown",
      "metadata": {
        "id": "view-in-github",
        "colab_type": "text"
      },
      "source": [
        "<a href=\"https://colab.research.google.com/github/Hfzh21/PBO_TUGAS3/blob/main/pbo_tugas2_classsiswa.ipynb\" target=\"_parent\"><img src=\"https://colab.research.google.com/assets/colab-badge.svg\" alt=\"Open In Colab\"/></a>"
      ]
    },
    {
      "cell_type": "code",
      "execution_count": 1,
      "metadata": {
        "colab": {
          "base_uri": "https://localhost:8080/"
        },
        "id": "BP-I_KhuxDRU",
        "outputId": "588cadf1-68c2-429e-ff35-b1dc413dd5a3"
      },
      "outputs": [
        {
          "output_type": "stream",
          "name": "stdout",
          "text": [
            "Nama: hafizh , Nilai: 85\n",
            "Nilai hafizh  diubah menjadi: 90\n",
            "Nama: hafizh , Nilai: 90\n"
          ]
        }
      ],
      "source": [
        "class Siswa:\n",
        "    def __init__(self, nama, nilai):\n",
        "        self.nama = nama\n",
        "        self.nilai = nilai\n",
        "\n",
        "    def tampilkan_info(self):\n",
        "        print(f\"Nama: {self.nama}, Nilai: {self.nilai}\")\n",
        "\n",
        "    def ubah_nilai(self, nilai_baru):\n",
        "        self.nilai = nilai_baru\n",
        "        print(f\"Nilai {self.nama} diubah menjadi: {self.nilai}\")\n",
        "\n",
        "s = Siswa(\"hafizh \", 85)\n",
        "s.tampilkan_info()\n",
        "s.ubah_nilai(90)\n",
        "s.tampilkan_info()"
      ]
    }
  ]
}